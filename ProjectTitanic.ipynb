{
 "cells": [
  {
   "cell_type": "markdown",
   "id": "08d20298",
   "metadata": {},
   "source": [
    "### CRITERI DI RICERCA:\n",
    "- analisi delle persone sopravvissute\n",
    "- analisi delle persone non sopravvissute\n",
    "- analisi delle variabili\n",
    "- analizzare le parti più sicure della nave in base alla classe in cui si è\n",
    "    1. la nave è andata giù di prua\n",
    "    2. la parte più sicura per un periodo è stata la poppa\n",
    "    3. una volta spaccata a metà, la prua è affondata subito, la poppa poco dopo\n",
    "    4. la prima classe era in alto, la seconda verso la poppa al centro, la terza era a prua e a poppa in basso\n",
    "- selezionare quale variabile è la più incisiva a nostro parere\n",
    "- dare un peso diverso ad ogni colonna e aggregare i risultati\n",
    "\n",
    "### SUDDIVISIONE LAVORO:\n",
    "- chi analizza i sopravvissuti/non sopravvissuti\n",
    "- chi analizza le variabili\n",
    "- chi analizza la situazione della nave"
   ]
  },
  {
   "cell_type": "code",
   "execution_count": 117,
   "id": "467805ab",
   "metadata": {},
   "outputs": [],
   "source": [
    "import numpy as np # linear algebra\n",
    "import pandas as pd # data processing, CSV file I/O (e.g. pd.read_csv)"
   ]
  },
  {
   "cell_type": "code",
   "execution_count": 118,
   "id": "b45c2f9d",
   "metadata": {},
   "outputs": [],
   "source": [
    "# importazione dei file\n",
    "relevant_cols = ['Pclass', 'Sex', 'Age', 'SibSp', 'Parch', 'Fare']\n",
    "train = pd.read_csv('train.csv', usecols = relevant_cols + ['Survived'])\n",
    "test = pd.read_csv('test.csv', usecols = relevant_cols)"
   ]
  },
  {
   "cell_type": "code",
   "execution_count": 119,
   "id": "93cdbd65",
   "metadata": {},
   "outputs": [],
   "source": [
    "# manipolazione dei dati affinchè siano utilizzabili nell'elaborazione\n",
    "# - trasformazione della colonna \"Sex\" in binario (male = 0, female = 1)\n",
    "train.replace(['male','female'],[0,1], inplace=True)\n",
    "# - trasformazione della colonna \"Age\" in intero (i valori nulli sono stati sostituiti con la media dell'età)\n",
    "train['Age'] = train['Age'].fillna(train['Age'].mean())\n",
    "train['Age'] = train['Age'].astype(int)"
   ]
  },
  {
   "cell_type": "code",
   "execution_count": 120,
   "id": "49153054",
   "metadata": {},
   "outputs": [
    {
     "name": "stdout",
     "output_type": "stream",
     "text": [
      "<class 'pandas.core.frame.DataFrame'>\n",
      "RangeIndex: 891 entries, 0 to 890\n",
      "Data columns (total 7 columns):\n",
      " #   Column    Non-Null Count  Dtype  \n",
      "---  ------    --------------  -----  \n",
      " 0   Survived  891 non-null    int64  \n",
      " 1   Pclass    891 non-null    int64  \n",
      " 2   Sex       891 non-null    int64  \n",
      " 3   Age       891 non-null    int32  \n",
      " 4   SibSp     891 non-null    int64  \n",
      " 5   Parch     891 non-null    int64  \n",
      " 6   Fare      891 non-null    float64\n",
      "dtypes: float64(1), int32(1), int64(5)\n",
      "memory usage: 45.4 KB\n"
     ]
    }
   ],
   "source": [
    "train.info()"
   ]
  },
  {
   "cell_type": "code",
   "execution_count": 121,
   "id": "ce55b42f",
   "metadata": {},
   "outputs": [
    {
     "name": "stdout",
     "output_type": "stream",
     "text": [
      "Female survival rate: 74.20382165605095%\n",
      "Male survival rate: 18.890814558058924%\n"
     ]
    }
   ],
   "source": [
    "# percentuale di sopravvivenza per sesso\n",
    "female = train.loc[train.Sex == 1][\"Survived\"]\n",
    "print(f\"Female survival rate: {(sum(female)/len(female))*100}%\")\n",
    "\n",
    "male = train.loc[train.Sex == 0][\"Survived\"]\n",
    "print(f\"Male survival rate: {(sum(male)/len(male))*100}%\")"
   ]
  },
  {
   "cell_type": "code",
   "execution_count": 122,
   "id": "1212a9b4",
   "metadata": {},
   "outputs": [
    {
     "name": "stdout",
     "output_type": "stream",
     "text": [
      "First class survival rate: 62.96296296296296%\n",
      "Second class survival rate: 47.28260869565217%\n",
      "Third class survival rate: 24.236252545824847%\n"
     ]
    }
   ],
   "source": [
    "# percentuale di sopravvivenza per cateogoria di classe (1°, 2°, 3°)\n",
    "classes = pd.get_dummies(train[\"Pclass\"])\n",
    "classes.rename(columns={1: \"First\", 2: \"Second\", 3: \"Third\"}, inplace = True)\n",
    "\n",
    "firstClass = train.loc[classes.First == 1][\"Survived\"]\n",
    "print(f\"First class survival rate: {(sum(firstClass)/len(firstClass))*100}%\")\n",
    "\n",
    "secondClass = train.loc[classes.Second == 1][\"Survived\"]\n",
    "print(f\"Second class survival rate: {(sum(secondClass)/len(secondClass))*100}%\")\n",
    "\n",
    "thirdClass = train.loc[classes.Third == 1][\"Survived\"]\n",
    "print(f\"Third class survival rate: {(sum(thirdClass)/len(thirdClass))*100}%\")"
   ]
  },
  {
   "cell_type": "code",
   "execution_count": 123,
   "id": "2d7bd332",
   "metadata": {},
   "outputs": [],
   "source": [
    "# percentuale di sopravvivenza per età\n",
    "# classificazione delle età in categorie\n",
    "train.loc[train['Age'] <= 12, 'Age'] = 0                           # junior\n",
    "train.loc[(train['Age'] > 12) & (train['Age'] <= 19), 'Age'] = 1   # teen\n",
    "train.loc[(train['Age'] > 19) & (train['Age'] <= 30), 'Age'] = 2   # guy\n",
    "train.loc[(train['Age'] > 30) & (train['Age'] <= 40), 'Age'] = 3   # adult1\n",
    "train.loc[(train['Age'] > 40) & (train['Age'] <= 50), 'Age'] = 4   # adult2\n",
    "train.loc[(train['Age'] > 50) & (train['Age'] <= 60), 'Age'] = 5   # adult3\n",
    "train.loc[train['Age'] > 60, 'Age'] = 6   # senior"
   ]
  },
  {
   "cell_type": "code",
   "execution_count": 140,
   "id": "591191e8",
   "metadata": {},
   "outputs": [
    {
     "name": "stdout",
     "output_type": "stream",
     "text": [
      "0-12 yo survival rate: 57.971014492753625% (69)\n",
      "13-19 yo survival rate: 41.05263157894737% (95)\n",
      "20-30 yo survival rate: 32.78301886792453% (424)\n",
      "31-40 yo survival rate: 44.516129032258064% (155)\n",
      "41-50 yo survival rate: 39.285714285714285% (84)\n",
      "51-60 yo survival rate: 40.476190476190474% (42)\n",
      "61+ yo survival rate: 22.727272727272727% (22)\n"
     ]
    }
   ],
   "source": [
    "junior = train.loc[train.Age == 0][\"Survived\"]\n",
    "print(f\"0-12 yo survival rate: {(sum(junior)/len(junior))*100}% ({len(junior)})\")\n",
    "\n",
    "teen = train.loc[train.Age == 1][\"Survived\"]\n",
    "print(f\"13-19 yo survival rate: {(sum(teen)/len(teen))*100}% ({len(teen)})\")\n",
    "\n",
    "guy = train.loc[train.Age == 2][\"Survived\"]\n",
    "print(f\"20-30 yo survival rate: {(sum(guy)/len(guy))*100}% ({len(guy)})\")\n",
    "\n",
    "adult1 = train.loc[train.Age == 3][\"Survived\"]\n",
    "print(f\"31-40 yo survival rate: {(sum(adult1)/len(adult1))*100}% ({len(adult1)})\")\n",
    "\n",
    "adult2 = train.loc[train.Age == 4][\"Survived\"]\n",
    "print(f\"41-50 yo survival rate: {(sum(adult2)/len(adult2))*100}% ({len(adult2)})\")\n",
    "\n",
    "adult3 = train.loc[train.Age == 5][\"Survived\"]\n",
    "print(f\"51-60 yo survival rate: {(sum(adult3)/len(adult3))*100}% ({len(adult3)})\")\n",
    "\n",
    "senior = train.loc[train.Age == 6][\"Survived\"]\n",
    "print(f\"61+ yo survival rate: {(sum(senior)/len(senior))*100}% ({len(senior)})\")"
   ]
  },
  {
   "cell_type": "code",
   "execution_count": 138,
   "id": "a5038b1e",
   "metadata": {},
   "outputs": [
    {
     "name": "stdout",
     "output_type": "stream",
     "text": [
      "0-12 yo female survival rate in first class: 0.0% 1\n",
      "13-19 yo female survival rate in first class: 100.0% 13\n",
      "20-30 yo female survival rate in first class: 96.66666666666667% 30\n",
      "31-40 yo female survival rate in first class: 100.0% 24\n",
      "41-50 yo female survival rate in first class: 92.3076923076923% 13\n",
      "51-60 yo female survival rate in first class: 100.0% 11\n",
      "61+ yo female survival rate in first class: 100.0% 2\n"
     ]
    }
   ],
   "source": [
    "# percentuale sopravvivenza donne in prima classe suddivise per età\n",
    "femaleAgePclass = train.loc[(train.Sex == 1) & (train.Age == 0) & (classes.First == 1)][\"Survived\"]\n",
    "print(f\"0-12 yo female survival rate in first class: {(sum(femaleAgePclass)/len(femaleAgePclass))*100}% ({len(femaleAgePclass)})\")\n",
    "\n",
    "femaleAgePclass = train.loc[(train.Sex == 1) & (train.Age == 1) & (classes.First == 1)][\"Survived\"]\n",
    "print(f\"13-19 yo female survival rate in first class: {(sum(femaleAgePclass)/len(femaleAgePclass))*100}% ({len(femaleAgePclass)})\")\n",
    "\n",
    "femaleAgePclass = train.loc[(train.Sex == 1) & (train.Age == 2) & (classes.First == 1)][\"Survived\"]\n",
    "print(f\"20-30 yo female survival rate in first class: {(sum(femaleAgePclass)/len(femaleAgePclass))*100}% ({len(femaleAgePclass)})\")\n",
    "\n",
    "femaleAgePclass = train.loc[(train.Sex == 1) & (train.Age == 3) & (classes.First == 1)][\"Survived\"]\n",
    "print(f\"31-40 yo female survival rate in first class: {(sum(femaleAgePclass)/len(femaleAgePclass))*100}% ({len(femaleAgePclass)})\")\n",
    "\n",
    "femaleAgePclass = train.loc[(train.Sex == 1) & (train.Age == 4) & (classes.First == 1)][\"Survived\"]\n",
    "print(f\"41-50 yo female survival rate in first class: {(sum(femaleAgePclass)/len(femaleAgePclass))*100}% ({len(femaleAgePclass)})\")\n",
    "\n",
    "femaleAgePclass = train.loc[(train.Sex == 1) & (train.Age == 5) & (classes.First == 1)][\"Survived\"]\n",
    "print(f\"51-60 yo female survival rate in first class: {(sum(femaleAgePclass)/len(femaleAgePclass))*100}% ({len(femaleAgePclass)})\")\n",
    "\n",
    "femaleAgePclass = train.loc[(train.Sex == 1) & (train.Age == 6) & (classes.First == 1)][\"Survived\"]\n",
    "print(f\"61+ yo female survival rate in first class: {(sum(femaleAgePclass)/len(femaleAgePclass))*100}% ({len(femaleAgePclass)})\")"
   ]
  },
  {
   "cell_type": "code",
   "execution_count": 142,
   "id": "9600cb11",
   "metadata": {},
   "outputs": [
    {
     "name": "stdout",
     "output_type": "stream",
     "text": [
      "0-12 yo female survival rate in second class: 100.0% (8)\n",
      "13-19 yo female survival rate in second class: 100.0% (8)\n",
      "20-30 yo female survival rate in second class: 90.0% (30)\n",
      "31-40 yo female survival rate in second class: 94.11764705882352% (17)\n",
      "41-50 yo female survival rate in second class: 90.0% (10)\n",
      "51-60 yo female survival rate in second class: 66.66666666666666% (3)\n",
      "61+ yo female survival rate in second class: 0.0% (0)\n"
     ]
    }
   ],
   "source": [
    "# percentuale sopravvivenza donne in seconda classe suddivise per età\n",
    "femaleAgePclass = train.loc[(train.Sex == 1) & (train.Age == 0) & (classes.Second == 1)][\"Survived\"]\n",
    "print(f\"0-12 yo female survival rate in second class: {(sum(femaleAgePclass)/len(femaleAgePclass))*100}% ({len(femaleAgePclass)})\")\n",
    "\n",
    "femaleAgePclass = train.loc[(train.Sex == 1) & (train.Age == 1) & (classes.Second == 1)][\"Survived\"]\n",
    "print(f\"13-19 yo female survival rate in second class: {(sum(femaleAgePclass)/len(femaleAgePclass))*100}% ({len(femaleAgePclass)})\")\n",
    "\n",
    "femaleAgePclass = train.loc[(train.Sex == 1) & (train.Age == 2) & (classes.Second == 1)][\"Survived\"]\n",
    "print(f\"20-30 yo female survival rate in second class: {(sum(femaleAgePclass)/len(femaleAgePclass))*100}% ({len(femaleAgePclass)})\")\n",
    "\n",
    "femaleAgePclass = train.loc[(train.Sex == 1) & (train.Age == 3) & (classes.Second == 1)][\"Survived\"]\n",
    "print(f\"31-40 yo female survival rate in second class: {(sum(femaleAgePclass)/len(femaleAgePclass))*100}% ({len(femaleAgePclass)})\")\n",
    "\n",
    "femaleAgePclass = train.loc[(train.Sex == 1) & (train.Age == 4) & (classes.Second == 1)][\"Survived\"]\n",
    "print(f\"41-50 yo female survival rate in second class: {(sum(femaleAgePclass)/len(femaleAgePclass))*100}% ({len(femaleAgePclass)})\")\n",
    "\n",
    "femaleAgePclass = train.loc[(train.Sex == 1) & (train.Age == 5) & (classes.Second == 1)][\"Survived\"]\n",
    "print(f\"51-60 yo female survival rate in second class: {(sum(femaleAgePclass)/len(femaleAgePclass))*100}% ({len(femaleAgePclass)})\")\n",
    "\n",
    "# é stato appurato tramite errori che, in questa fascia d'età, non ' sopravvissuta alcuna donna'\n",
    "# femaleAgePclass = train.loc[(train.Sex == 1) & (train.Age == 6) & (classes.Second == 1)][\"Survived\"]\n",
    "# print(f\"prova: {(sum(femaleAgePclass)/len(femaleAgePclass))*100}% {len(femaleAgePclass)}\") ERROR: DIVISION BY ZERO\n",
    "print(\"61+ yo female survival rate in second class: 0.0% (0)\")"
   ]
  },
  {
   "cell_type": "code",
   "execution_count": 143,
   "id": "618f0cc1",
   "metadata": {},
   "outputs": [
    {
     "name": "stdout",
     "output_type": "stream",
     "text": [
      "0-12 yo female survival rate in third class: 47.82608695652174% (23)\n",
      "13-19 yo female survival rate in third class: 59.09090909090909% (22)\n",
      "20-30 yo female survival rate in third class: 53.246753246753244% (77)\n",
      "31-40 yo female survival rate in third class: 46.15384615384615% (13)\n",
      "41-50 yo female survival rate in third class: 0.0% (8)\n",
      "51-60 yo female survival rate in third class: 0.0% (0)\n",
      "61+ yo female survival rate in third class: 100.0% (1)\n"
     ]
    }
   ],
   "source": [
    "# percentuale sopravvivenza donne in terza classe suddivise per età\n",
    "femaleAgePclass = train.loc[(train.Sex == 1) & (train.Age == 0) & (classes.Third == 1)][\"Survived\"]\n",
    "print(f\"0-12 yo female survival rate in third class: {(sum(femaleAgePclass)/len(femaleAgePclass))*100}% ({len(femaleAgePclass)})\")\n",
    "\n",
    "femaleAgePclass = train.loc[(train.Sex == 1) & (train.Age == 1) & (classes.Third == 1)][\"Survived\"]\n",
    "print(f\"13-19 yo female survival rate in third class: {(sum(femaleAgePclass)/len(femaleAgePclass))*100}% ({len(femaleAgePclass)})\")\n",
    "\n",
    "femaleAgePclass = train.loc[(train.Sex == 1) & (train.Age == 2) & (classes.Third == 1)][\"Survived\"]\n",
    "print(f\"20-30 yo female survival rate in third class: {(sum(femaleAgePclass)/len(femaleAgePclass))*100}% ({len(femaleAgePclass)})\")\n",
    "\n",
    "femaleAgePclass = train.loc[(train.Sex == 1) & (train.Age == 3) & (classes.Third == 1)][\"Survived\"]\n",
    "print(f\"31-40 yo female survival rate in third class: {(sum(femaleAgePclass)/len(femaleAgePclass))*100}% ({len(femaleAgePclass)})\")\n",
    "\n",
    "femaleAgePclass = train.loc[(train.Sex == 1) & (train.Age == 4) & (classes.Third == 1)][\"Survived\"]\n",
    "print(f\"41-50 yo female survival rate in third class: {(sum(femaleAgePclass)/len(femaleAgePclass))*100}% ({len(femaleAgePclass)})\")\n",
    "\n",
    "# é stato appurato tramite errori che, in questa fascia d'età, non ' sopravvissuta alcuna donna'\n",
    "# femaleAgePclass = train.loc[(train.Sex == 1) & (train.Age == 5) & (classes.Third == 1)][\"Survived\"\n",
    "# print(f\"prova: {(sum(femaleAgePclass)/len(femaleAgePclass))*100}% {len(femaleAgePclass)}\")\n",
    "print(\"51-60 yo female survival rate in third class: 0.0% (0)\")\n",
    "\n",
    "femaleAgePclass = train.loc[(train.Sex == 1) & (train.Age == 6) & (classes.Third == 1)][\"Survived\"]\n",
    "print(f\"61+ yo female survival rate in third class: {(sum(femaleAgePclass)/len(femaleAgePclass))*100}% ({len(femaleAgePclass)})\")"
   ]
  },
  {
   "cell_type": "code",
   "execution_count": null,
   "id": "3711e91f",
   "metadata": {},
   "outputs": [],
   "source": []
  }
 ],
 "metadata": {
  "kernelspec": {
   "display_name": "Python 3 (ipykernel)",
   "language": "python",
   "name": "python3"
  },
  "language_info": {
   "codemirror_mode": {
    "name": "ipython",
    "version": 3
   },
   "file_extension": ".py",
   "mimetype": "text/x-python",
   "name": "python",
   "nbconvert_exporter": "python",
   "pygments_lexer": "ipython3",
   "version": "3.9.13"
  }
 },
 "nbformat": 4,
 "nbformat_minor": 5
}
